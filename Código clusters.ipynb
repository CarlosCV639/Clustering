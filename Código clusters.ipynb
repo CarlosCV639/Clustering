{
 "cells": [
  {
   "cell_type": "code",
   "execution_count": 15,
   "metadata": {},
   "outputs": [],
   "source": [
    "import pandas as pd\n",
    "import numpy as np\n",
    "from geopy.distance import great_circle\n",
    "from sklearn.cluster import DBSCAN\n",
    "import re\n",
    "pd.set_option('display.max_columns', None)"
   ]
  },
  {
   "cell_type": "markdown",
   "metadata": {},
   "source": [
    "# Primera parte del código\n",
    "Se genera un Excel con la deuda actualizada y con este código se aplican los filtros necesarios y se limpia el archivo."
   ]
  },
  {
   "cell_type": "code",
   "execution_count": null,
   "metadata": {},
   "outputs": [],
   "source": [
    "clustering = pd.read_csv(\"Prueba 2.csv\")\n",
    "clustering['CLIENTE'] = clustering['CLIENTE'].astype(str)\n",
    "#Se eliminan los números y las K después del guión de la columna CLIENTE\n",
    "#Se utiliza lambda para que la eliminación se de solo en la columna CLIENTE, de lo contrario también afectaba a las fechas\n",
    "pattern = r\"-?\\d+$\"\n",
    "replace_digits = lambda x: re.sub(pattern, \"\", x)\n",
    "clustering['CLIENTE'] = clustering['CLIENTE'].apply(replace_digits)\n",
    "clustering['CLIENTE'] = clustering['CLIENTE'].apply(lambda x: re.sub(r\"-[A-Za-z]$\", \"\", x))\n",
    "#Se agrega una nueva columna SECTOR que toma los 2 primeros de la columna RUTA\n",
    "clustering.insert(1+1, 'SECTOR', clustering['RUTA'].str[:2])\n",
    "#Se eliminan todas las filas que contengan la \"S\" en las columnas solicitadas\n",
    "quitar_S = [\"TIENE CONVENIO\", \"TIENE BLOQUEO CORTE\", \"CLIENTE VIP\", \"TIENE RECLAMO COMERCIAL\"]\n",
    "clustering = clustering[~clustering[quitar_S].apply(lambda row: row.str.contains('S').any(), axis=1)]\n",
    "#Se generan las condiciones de filtrado que normalmente se requieren para cualquier \"todas\"\n",
    "condiciones = [\n",
    "    ~clustering['F. CORTE CLIENTE'].str.contains('2500', na=False),\n",
    "    ~clustering['DIRECCION'].str.contains('COSME|PINO|MORRO SOLAR', case=False, na=False),\n",
    "    ~clustering['NOMBRE'].str.contains('MUNICIPALIDAD', case=False, na=False),\n",
    "    clustering['DESC. SUCURSAL'] != 'Cañete',\n",
    "    ~clustering['ANTIGUEDAD SIMULADA'].isin([0, 1, 2]),\n",
    "    clustering['DISTRITO'] != 'EL AGUSTINO',\n",
    "    ~clustering['TARIFA'].isin(['BT5E', 'BT6'])\n",
    "]\n",
    "#Se aplican las condiciones al dataframe\n",
    "clustering = clustering\n",
    "for condition in condiciones:\n",
    "    clustering = clustering[condition]"
   ]
  },
  {
   "cell_type": "markdown",
   "metadata": {},
   "source": [
    "# Segunda parte del código\n",
    "Se generan los clusters"
   ]
  },
  {
   "cell_type": "code",
   "execution_count": 7,
   "metadata": {},
   "outputs": [],
   "source": [
    "#Se convierten las coordenadas a numpy de forma que podamos realizar operaciones algebraicas\n",
    "coordenadas = clustering[['COORDENADA DE LATITUD', 'COORDENADA DE LONGITUD']].to_numpy()\n",
    "#Se define la función de distancia geográfica\n",
    "def haversine_distance(coord1, coord2):\n",
    "    return great_circle(coord1, coord2).kilometers\n",
    "#Se establece el parámetro de distancia, en este caso es 0.8km\n",
    "eps = 0.8\n",
    "#Se establece el algoritmo para generar los clusters\n",
    "db = DBSCAN(eps=eps, min_samples=20, metric=haversine_distance).fit(coordenadas)\n",
    "#Se le asignan etiquetas a cada cluster\n",
    "clustering['Cluster'] = db.labels_\n",
    "#Para visualizar la cantidad de clusters generados\n",
    "clustering['Cluster'].unique()\n",
    "#Se genera un nuevo dataframe solo con las columnas que necesitamos\n",
    "clustering_filtrado = clustering[['CLIENTE', 'RUTA', 'DISTRITO', 'DESC. SUCURSAL', 'DEUDA TOTAL', 'ANTIGUEDAD', 'COORDENADA DE LATITUD', 'COORDENADA DE LONGITUD', 'Cluster']]\n",
    "#Se genera un archivo csv de este nuevo dataframe\n",
    "clustering_filtrado.to_csv('Resultado prueba.csv', index=False)\n"
   ]
  }
 ],
 "metadata": {
  "kernelspec": {
   "display_name": "Python 3",
   "language": "python",
   "name": "python3"
  },
  "language_info": {
   "codemirror_mode": {
    "name": "ipython",
    "version": 3
   },
   "file_extension": ".py",
   "mimetype": "text/x-python",
   "name": "python",
   "nbconvert_exporter": "python",
   "pygments_lexer": "ipython3",
   "version": "3.12.4"
  }
 },
 "nbformat": 4,
 "nbformat_minor": 2
}
